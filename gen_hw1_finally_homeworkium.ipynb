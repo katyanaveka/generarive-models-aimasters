{
  "cells": [
    {
      "cell_type": "markdown",
      "metadata": {
        "id": "5rUp2xWkdGFu"
      },
      "source": [
        "# Homework 1: Autoregressive models"
      ]
    },
    {
      "cell_type": "markdown",
      "source": [
        "**ФИО:** Солоднёва Екатерина Алексеевна"
      ],
      "metadata": {
        "id": "3Sw70PIflrA2"
      }
    },
    {
      "cell_type": "markdown",
      "metadata": {
        "id": "TiqeBx7QSuue"
      },
      "source": [
        "## Task 1. Theory (5pt)"
      ]
    },
    {
      "cell_type": "markdown",
      "metadata": {
        "id": "QLGp4c5UPByO"
      },
      "source": [
        "### Problem 1: Sampling from KDE (2pt)\n",
        "\n",
        "Let $\\hat{p}_h(x) = \\frac{1}{n h^d} \\sum\\limits_{i = 1}^{n} K\\left(\\frac{x - X_i}{h}\\right)$ is the Kernel Density Estimator (see seminar 1) of a density $p_{\\pi}$, where $X_1, \\dots, X_n \\sim p_{\\pi}$, $X_i \\in \\mathbb{R}^d$.\n",
        "\n",
        "Consider the following sampling scheme:\n",
        ">\n",
        ">1. Choose random number $k$ uniformly from the collection of numbers $\\{1, 2, \\dots, n\\}$.\n",
        ">\n",
        ">2. Sample the random variable $\\tilde{X}$ from the kernel $\\frac{1}{h^d} K\\left(\\frac{x - X_k}{h}\\right)$.\n",
        ">\n",
        "\n",
        "Prove, that $\\tilde{X}$ is distributed according to $\\hat{p}_h(x)$, i.e. the scheme above is the correct sampling scheme for $\\hat{p}_h(x)$."
      ]
    },
    {
      "cell_type": "markdown",
      "metadata": {
        "id": "P0HFuytJPQ7o"
      },
      "source": [
        "$P(\\tilde{X}_i$ from $K_i$) = $\\frac{1}{n}$, т. к.  $i \\in U(\\{1,..n\\})$\n",
        "\n",
        "$F_{\\tilde{X}}(x) = \\frac{1}{n}\\int_{-\\infty}^{x}\\frac{1}{h^d}K(\\frac{x-X_1}{h})+..+\\frac{1}{n}\\int_{-\\infty}^{x}\\frac{1}{h^d}K(\\frac{x-X_n}{h})$\n",
        "\n",
        "$p_{\\tilde{X}}(x) = (F_{\\tilde{X}}(x))'=\\frac{1}{nh^d}K(\\frac{x-X_1}{h})+..+\\frac{1}{nh^d}K(\\frac{x-X_n}{h})=\\frac{1}{nh^d}\\sum_{i=1}^{n}K_i(\\frac{x-X_i}{h})$\n"
      ]
    },
    {
      "cell_type": "markdown",
      "metadata": {
        "id": "tk8-eCJuaTrU",
        "tags": []
      },
      "source": [
        "### Problem 2: MADE theory (2pt)\n",
        "\n",
        "Consider the [MADE](https://arxiv.org/abs/1502.03509) model with a single hidden layer (we have discussed it at seminar 2). The input object is $\\mathbf{x} \\in \\mathbb{R}^m$. We denote by $\\mathbf{W} \\in \\mathbb{R}^{h \\times m}$ the matrix of weights between the input and the hidden layer, and by $\\mathbf{V} \\in \\mathbb{R}^{m \\times h}$ the matrix of weights between the hidden and the output layer ($h$ is the number of neurons in the hidden layer). Let us generate the correct autoregressive masks $\\mathbf{M}_{\\mathbf{W}} \\in \\mathbb{R}^{h \\times m}$ and $\\mathbf{M}_{\\mathbf{V}} \\in \\mathbb{R}^{m \\times h}$ (the generation algorithm is given in Lecture 1) for the direct order of variables\n",
        "$$\n",
        "    p(\\mathbf{x}) = p(x_1) \\cdot p(x_2 | x_1) \\cdot \\dots \\cdot p(x_m | x_{m-1}, \\dots, x_1).\n",
        "$$ \n",
        "(The order of neurons is given by indices at the probabilities in the formula. In this case, it is a direct order.)\n",
        "\n",
        "Each mask is a binary matrix of 0 and 1. Let's introduce the matrix $\\mathbf{M} = \\mathbf{M}_{\\mathbf{V}} \\mathbf{M}_{\\mathbf{W}}$. Prove that:\n",
        "* $\\mathbf{M}$ is strictly lower triangular (has zeros on the diagonal and above the diagonal);\n",
        "* $\\mathbf{M}_{ij}$  is equal to the number of paths in the network graph between the output neuron $\\hat{x}_i$ and the input neuron $x_j$."
      ]
    },
    {
      "cell_type": "markdown",
      "metadata": {
        "id": "erVRXwzqPHwV"
      },
      "source": [
        "$M_{ij} = \\sum_\\limits{k} (M_V)_{ik}(M_W)_{kj} =$//по построению матриц//$= \\sum_\\limits{k} \\mathbb{1}(i > $номер k-ого нейрона на скрытом слое$)\\cdot\\mathbb{1}(j \\leq $номер k-ого нейрона на скрытом слое$)$. Таким образом при $i \\leq j$ один из индикаторов всегда будет обнуляться, а значит матрица $M$ нижнетреугольная. \n",
        "\n",
        "Из \"индикаторной\" записи элемента $M_{ij}$ также следует, что в сумме стоит 1 каждый раз, когда путь от $\\hat{x_i}$ до $x_j$ проходит через $k$-ый нейрон и 0, если не проходит. А значит, в элементе $M_{ij}$ получаем количество путей от $\\hat{x_i}$ до $x_j$."
      ]
    },
    {
      "cell_type": "markdown",
      "metadata": {
        "id": "ivV4DY1SPEIL"
      },
      "source": [
        "### Problem 3: $\\alpha$-divergence (1pt)\n",
        "\n",
        "In the course, we will meet different divergences (not only $KL$). So let's get acquainted with the class of $\\alpha$-divergences:\n",
        "$$\n",
        "    D_{\\alpha}(p || q) = \\frac{4}{1 - \\alpha^2} \\left( 1 - \\int p(x)^{\\frac{1 + \\alpha}{2}}q(x)^{\\frac{1 - \\alpha}{2}}dx\\right).\n",
        "$$\n",
        "For each $\\alpha \\in [-\\infty; +\\infty]$ the function $D_{\\alpha} (p || q)$ is a measure of the similarity between two distributions. $D_{\\alpha} (p || q)$ has different properties for different $\\alpha$.\n",
        "\n",
        "Prove that for $\\alpha \\rightarrow 1$ the divergence $D_{\\alpha}(p || q) \\rightarrow KL(p || q)$, and for $\\alpha \\rightarrow -1$ the divergence $D_{\\alpha}(p || q) \\rightarrow KL(q || p)$. \n",
        "\n",
        "**Hint:** use the fact that $t^\\varepsilon = \\exp(\\varepsilon \\cdot \\ln t) = 1 + \\varepsilon \\cdot \\ln t + O(\\varepsilon^2)$."
      ]
    },
    {
      "cell_type": "markdown",
      "metadata": {
        "id": "vWIkKpOqSuut"
      },
      "source": [
        "$ \\lim\\limits_{\\alpha\\to 1}D_{\\alpha}(p || q) = \\lim\\limits_{\\alpha\\to 1} \\frac{4}{(1 - \\alpha)(1 + \\alpha)} \\left( 1 - \\int p(x)^{\\frac{1 + \\alpha}{2}}q(x)^{\\frac{1 - \\alpha}{2}}dx\\right) = (\\alpha = 1 - \\varepsilon) = \\lim\\limits_{\\varepsilon\\to 0} \\frac{4}{\\varepsilon(2-\\varepsilon)}\\left( 1 - \\int p(x)^{1-\\frac{\\varepsilon}{2}}q(x)^{\\frac{\\varepsilon}{2}}dx\\right)= I_\\alpha(p||q)$ 📌$\n",
        "\n",
        "$I_\\alpha(p||q)=\\lim\\limits_{\\varepsilon\\to 0}\\frac{4}{\\varepsilon(2-\\varepsilon)}\\left( 1 - \\int p(x)p(x)^{-\\frac{\\varepsilon}{2}}(1+\\frac{\\varepsilon}{2}\\ln q(x)+O(\\varepsilon^2))dx\\right) = \\lim\\limits_{\\varepsilon\\to 0}\\frac{4}{\\varepsilon(2-\\varepsilon)}\\left( 1 - \\int p(x)\\left(1-\\frac{\\varepsilon}{2}\\ln p(x)\\right)dx\n",
        "-\\frac{\\varepsilon}{2}\\int p(x)\\left(1-\\frac{\\varepsilon}{2}\\ln p(x)\\right)\\ln q(x)dx\\right)=\\lim\\limits_{\\varepsilon\\to 0}\\frac{4}{\\varepsilon(2-\\varepsilon)}\\left( \\underline{1} - \\underline{\\int p(x)dx} +\\frac{\\varepsilon}{2}\\int p(x)\\ln p(x) dx - \\frac{\\varepsilon}{2}\\int p(x) \\ln q(x) dx +\\frac{\\varepsilon^2}{4} \\int p(x) \\ln p(x) \\ln q(x) dx\n",
        "\\right) = \\lim_\\limits{\\varepsilon\\to 0}\\frac{4}{\\varepsilon(2-\\varepsilon)}\\cdot \\left(\\frac{\\varepsilon}{2} \\int p(x)(\\ln p(x) - \\ln q(x))  dx + O(\\varepsilon^2)\\right) = \\lim_\\limits{\\varepsilon\\to 0} \\frac{4}{2\\varepsilon}\\cdot \\frac{\\varepsilon}{2} \\int p(x) \\ln \\frac{p(x)}{q(x)} dx = KL(p||q)$\n",
        "\n",
        "$\\lim\\limits_{\\alpha\\to -1}D_{\\alpha}(p || q) =(\\alpha = 1 - \\varepsilon)= \\frac{4}{(2-\\varepsilon)\\varepsilon}(1-\\int p(x)^{\\frac{\\varepsilon}{2}}q(x)^{1-\\frac{\\varepsilon}{2}})=I_\\alpha(q||p) 📌$"
      ]
    },
    {
      "cell_type": "markdown",
      "metadata": {
        "id": "W9sccpidSuuw"
      },
      "source": [
        "### Problem 4*: Histogram for continuous random vectors in $\\mathbb{R}^d$ (extra 2pt)\n",
        "\n",
        "Let $\\xi \\in \\mathbb{R}^d$ is an absolutely continuous random vector in with probability density function $p_{\\xi}(x)$ , such that $\\,\\text{supp}(p_{\\xi}) \\subseteq [0, 1]^{d}$ ($p_{\\xi}(x) = 0 \\,\\, \\forall x \\in \\mathbb{R}^d \\backslash [0, 1]^d$). Additionally assume, that $p_{\\xi}$ is *Lipschitz continuous* with Lipschitz constant $L$, i.e.:\n",
        "$$\n",
        "\\vert p_{\\xi}(x) - p_{\\xi}(y) \\vert \\leq L \\Vert x - y \\Vert_2\\ \\forall x, y \\in \\mathbb{R}^d .\n",
        "$$  \n",
        "\n",
        "Let $X_1, X_2, \\dots, X_n$ be i.i.d sample from $\\xi$. Consider dividing the hypercube $[0, 1]^d$ into subcubes $C_1, C_2, \\dots, C_N$ with the side length equals to $h$ (i.e. we obtain $N = \\left(\\frac{1}{h}\\right)^{d}$ subcubes). The histogram density estimator is as follows: \n",
        "\n",
        "$$\n",
        "\\hat{p}_h(x) = \\sum\\limits_{j = 1}^{N} \\frac{\\hat{\\theta_j}}{h^d} I\\left( x \\in C_j\\right).\n",
        "$$\n",
        "\n",
        "In the equation above $I(\\,\\cdot\\,)$ is the indicator function and $\\hat{\\theta_j} = \\frac{1}{n} \\sum\\limits_{i = 1}^{n} I(X_i \\in C_j)$.\n",
        "\n",
        "Let's estimate the discrepancy between true density $p_{\\xi}(x)$ and histogram density estimator $\\hat{p}_h(x)$. Consider the $MSE(x, h) = \\mathbb{E}(\\hat{p}_h(x)) - p_{\\xi}(x))^2$ (the expectation is taken over sample $X_1, \\dots, X_n$). \n",
        "\n",
        "* (a) Find an upper bound on $MSE(x, h)$ in terms of $L, h, d, n$. (**Hint:** utilize bias - variance decomposition and deal with each term separately) \n",
        "\n",
        "* (b) Find $h = h_n$ which minimizes the upper bound on $MSE(x, h)$. At which rate $MSE(x, h_n)$ converges to zero?"
      ]
    },
    {
      "cell_type": "markdown",
      "metadata": {
        "id": "Gqfu6jWrSuu1"
      },
      "source": [
        "```\n",
        "your solution for problem 4\n",
        "```"
      ]
    },
    {
      "cell_type": "markdown",
      "metadata": {
        "id": "d2LH7vKPPVUt"
      },
      "source": [
        "Now it time to move on to practical part of homework.\n",
        "\n",
        "In our course we have a small util [package](https://github.com/r-isachenko/2022-DGM-Ozon-course/blob/main/homeworks/dgm_utils/utils.py) with some usefull functions for loading and visualizing the images and training plots. In each homework there is a cell with installing this package. Please read carefully what functions we have in this package. It could help you to solve the tasks."
      ]
    },
    {
      "cell_type": "code",
      "execution_count": 1,
      "metadata": {
        "id": "7wXq7VJ_SRAl",
        "colab": {
          "base_uri": "https://localhost:8080/"
        },
        "outputId": "bba5360e-0919-40c1-8132-46207efd08ef"
      },
      "outputs": [
        {
          "output_type": "stream",
          "name": "stdout",
          "text": [
            "Cloning into '2022-2023-DGM-AIMasters-course'...\n",
            "remote: Enumerating objects: 599, done.\u001b[K\n",
            "remote: Counting objects: 100% (140/140), done.\u001b[K\n",
            "remote: Compressing objects: 100% (83/83), done.\u001b[K\n",
            "remote: Total 599 (delta 58), reused 133 (delta 55), pack-reused 459\u001b[K\n",
            "Receiving objects: 100% (599/599), 428.22 MiB | 18.17 MiB/s, done.\n",
            "Resolving deltas: 100% (139/139), done.\n",
            "Checking out files: 100% (282/282), done.\n",
            "Looking in indexes: https://pypi.org/simple, https://us-python.pkg.dev/colab-wheels/public/simple/\n",
            "Processing ./2022-2023-DGM-AIMasters-course/homeworks\n",
            "\u001b[33m  DEPRECATION: A future pip version will change local packages to be built in-place without first copying to a temporary directory. We recommend you use --use-feature=in-tree-build to test your packages with this new behavior before it becomes the default.\n",
            "   pip 21.3 will remove support for this functionality. You can find discussion regarding this at https://github.com/pypa/pip/issues/7555.\u001b[0m\n",
            "Requirement already satisfied: numpy in /usr/local/lib/python3.7/dist-packages (from dgm-utils==0.1.0) (1.21.6)\n",
            "Requirement already satisfied: matplotlib in /usr/local/lib/python3.7/dist-packages (from dgm-utils==0.1.0) (3.2.2)\n",
            "Requirement already satisfied: pillow in /usr/local/lib/python3.7/dist-packages (from dgm-utils==0.1.0) (7.1.2)\n",
            "Requirement already satisfied: tqdm in /usr/local/lib/python3.7/dist-packages (from dgm-utils==0.1.0) (4.64.1)\n",
            "Requirement already satisfied: torch in /usr/local/lib/python3.7/dist-packages (from dgm-utils==0.1.0) (1.12.1+cu113)\n",
            "Requirement already satisfied: torchvision in /usr/local/lib/python3.7/dist-packages (from dgm-utils==0.1.0) (0.13.1+cu113)\n",
            "Requirement already satisfied: torchaudio in /usr/local/lib/python3.7/dist-packages (from dgm-utils==0.1.0) (0.12.1+cu113)\n",
            "Requirement already satisfied: gdown in /usr/local/lib/python3.7/dist-packages (from dgm-utils==0.1.0) (4.4.0)\n",
            "Requirement already satisfied: scikit-learn in /usr/local/lib/python3.7/dist-packages (from dgm-utils==0.1.0) (1.0.2)\n",
            "Requirement already satisfied: requests[socks] in /usr/local/lib/python3.7/dist-packages (from gdown->dgm-utils==0.1.0) (2.23.0)\n",
            "Requirement already satisfied: filelock in /usr/local/lib/python3.7/dist-packages (from gdown->dgm-utils==0.1.0) (3.8.0)\n",
            "Requirement already satisfied: six in /usr/local/lib/python3.7/dist-packages (from gdown->dgm-utils==0.1.0) (1.15.0)\n",
            "Requirement already satisfied: beautifulsoup4 in /usr/local/lib/python3.7/dist-packages (from gdown->dgm-utils==0.1.0) (4.6.3)\n",
            "Requirement already satisfied: pyparsing!=2.0.4,!=2.1.2,!=2.1.6,>=2.0.1 in /usr/local/lib/python3.7/dist-packages (from matplotlib->dgm-utils==0.1.0) (3.0.9)\n",
            "Requirement already satisfied: cycler>=0.10 in /usr/local/lib/python3.7/dist-packages (from matplotlib->dgm-utils==0.1.0) (0.11.0)\n",
            "Requirement already satisfied: kiwisolver>=1.0.1 in /usr/local/lib/python3.7/dist-packages (from matplotlib->dgm-utils==0.1.0) (1.4.4)\n",
            "Requirement already satisfied: python-dateutil>=2.1 in /usr/local/lib/python3.7/dist-packages (from matplotlib->dgm-utils==0.1.0) (2.8.2)\n",
            "Requirement already satisfied: typing-extensions in /usr/local/lib/python3.7/dist-packages (from kiwisolver>=1.0.1->matplotlib->dgm-utils==0.1.0) (4.1.1)\n",
            "Requirement already satisfied: certifi>=2017.4.17 in /usr/local/lib/python3.7/dist-packages (from requests[socks]->gdown->dgm-utils==0.1.0) (2022.6.15)\n",
            "Requirement already satisfied: urllib3!=1.25.0,!=1.25.1,<1.26,>=1.21.1 in /usr/local/lib/python3.7/dist-packages (from requests[socks]->gdown->dgm-utils==0.1.0) (1.24.3)\n",
            "Requirement already satisfied: chardet<4,>=3.0.2 in /usr/local/lib/python3.7/dist-packages (from requests[socks]->gdown->dgm-utils==0.1.0) (3.0.4)\n",
            "Requirement already satisfied: idna<3,>=2.5 in /usr/local/lib/python3.7/dist-packages (from requests[socks]->gdown->dgm-utils==0.1.0) (2.10)\n",
            "Requirement already satisfied: PySocks!=1.5.7,>=1.5.6 in /usr/local/lib/python3.7/dist-packages (from requests[socks]->gdown->dgm-utils==0.1.0) (1.7.1)\n",
            "Requirement already satisfied: scipy>=1.1.0 in /usr/local/lib/python3.7/dist-packages (from scikit-learn->dgm-utils==0.1.0) (1.7.3)\n",
            "Requirement already satisfied: threadpoolctl>=2.0.0 in /usr/local/lib/python3.7/dist-packages (from scikit-learn->dgm-utils==0.1.0) (3.1.0)\n",
            "Requirement already satisfied: joblib>=0.11 in /usr/local/lib/python3.7/dist-packages (from scikit-learn->dgm-utils==0.1.0) (1.1.0)\n",
            "Building wheels for collected packages: dgm-utils\n",
            "  Building wheel for dgm-utils (setup.py) ... \u001b[?25l\u001b[?25hdone\n",
            "  Created wheel for dgm-utils: filename=dgm_utils-0.1.0-py3-none-any.whl size=3616 sha256=9dcee47dcc971d6b5398e9b44fd9bff801b767b57241ec0c337e1edd9396f196\n",
            "  Stored in directory: /tmp/pip-ephem-wheel-cache-qsc1doxo/wheels/82/4d/12/1c0ee7a49e57e17aa0ae4d5fb11d7f025b46f4a260dd043d73\n",
            "Successfully built dgm-utils\n",
            "Installing collected packages: dgm-utils\n",
            "Successfully installed dgm-utils-0.1.0\n"
          ]
        }
      ],
      "source": [
        "REPO_NAME = \"2022-2023-DGM-AIMasters-course\"\n",
        "!if [ -d {REPO_NAME} ]; then rm -Rf {REPO_NAME}; fi\n",
        "!git clone https://github.com/r-isachenko/{REPO_NAME}.git\n",
        "!cd {REPO_NAME}\n",
        "!pip install ./{REPO_NAME}/homeworks/\n",
        "!rm -Rf {REPO_NAME}"
      ]
    },
    {
      "cell_type": "code",
      "execution_count": 2,
      "metadata": {
        "id": "m-44Dxk6SRAp"
      },
      "outputs": [],
      "source": [
        "from dgm_utils import train_model, plot_training_curves\n",
        "from dgm_utils import show_samples, visualize_images, load_pickle"
      ]
    },
    {
      "cell_type": "code",
      "execution_count": 3,
      "metadata": {
        "id": "zk6rWePvdGFv"
      },
      "outputs": [],
      "source": [
        "import os\n",
        "import numpy as np\n",
        "import matplotlib.pyplot as plt\n",
        "\n",
        "from tqdm.notebook import tqdm\n",
        "\n",
        "import torch\n",
        "import torch.nn as nn\n",
        "import torch.nn.functional as F\n",
        "import torch.utils.data as data\n",
        "\n",
        "from torch.nn import ReLU\n",
        "\n",
        "USE_CUDA = torch.cuda.is_available()"
      ]
    },
    {
      "cell_type": "code",
      "execution_count": 4,
      "metadata": {
        "id": "_m5NVPFaJGHO",
        "colab": {
          "base_uri": "https://localhost:8080/"
        },
        "outputId": "9d2ae68d-83f9-4bb8-d9b1-2fdd3393402a"
      },
      "outputs": [
        {
          "output_type": "stream",
          "name": "stdout",
          "text": [
            "Mounted at /content/drive\n"
          ]
        }
      ],
      "source": [
        "from google.colab import drive\n",
        "drive.mount('/content/drive')"
      ]
    },
    {
      "cell_type": "code",
      "source": [
        "USE_CUDA"
      ],
      "metadata": {
        "id": "l93ZHPI6MvtL",
        "colab": {
          "base_uri": "https://localhost:8080/"
        },
        "outputId": "f5a0c2f8-a528-4ced-c482-34397825e3bb"
      },
      "execution_count": 5,
      "outputs": [
        {
          "output_type": "execute_result",
          "data": {
            "text/plain": [
              "True"
            ]
          },
          "metadata": {},
          "execution_count": 5
        }
      ]
    },
    {
      "cell_type": "markdown",
      "metadata": {
        "id": "KHouHarf_Hs-"
      },
      "source": [
        "## Task 2: PixelCNN on MNIST (5pt)\n",
        "\n",
        "[PixelCNN](https://arxiv.org/abs/1601.06759) model uses masked causal convoultions on images, we have discussed this model on the lecture 2.\n",
        "\n",
        "Here you have to train this model on MNIST images. See paper for details.\n",
        "\n",
        "Download the data from [here](https://drive.google.com/file/d/1hExV0C8wQWsrA4HfRTq9y9rMo7Pjd9Gw/view?usp=sharing) (you could use the cell below)."
      ]
    },
    {
      "cell_type": "code",
      "source": [],
      "metadata": {
        "id": "-t64XOoPMEQb"
      },
      "execution_count": 5,
      "outputs": []
    },
    {
      "cell_type": "code",
      "execution_count": 6,
      "metadata": {
        "id": "Ssrb-5jW_Ilh",
        "colab": {
          "base_uri": "https://localhost:8080/"
        },
        "outputId": "0264486a-61f1-4d96-8b2d-c7f6cfd617be"
      },
      "outputs": [
        {
          "output_type": "stream",
          "name": "stdout",
          "text": [
            "/usr/local/lib/python3.7/dist-packages/gdown/cli.py:131: FutureWarning: Option `--id` was deprecated in version 4.3.1 and will be removed in 5.0. You don't need to pass it anymore to use a file ID.\n",
            "  category=FutureWarning,\n",
            "Downloading...\n",
            "From: https://drive.google.com/uc?id=1hExV0C8wQWsrA4HfRTq9y9rMo7Pjd9Gw\n",
            "To: /content/mnist.pkl\n",
            "100% 188M/188M [00:01<00:00, 153MB/s]\n"
          ]
        }
      ],
      "source": [
        "!gdown --id 1hExV0C8wQWsrA4HfRTq9y9rMo7Pjd9Gw"
      ]
    },
    {
      "cell_type": "code",
      "execution_count": 7,
      "metadata": {
        "id": "PiOBcSvx_PN8",
        "colab": {
          "base_uri": "https://localhost:8080/",
          "height": 375
        },
        "outputId": "bb3fc2ab-b481-40d1-8474-3ba737f9cbdc"
      },
      "outputs": [
        {
          "output_type": "display_data",
          "data": {
            "text/plain": [
              "<Figure size 432x432 with 1 Axes>"
            ],
            "image/png": "[encoded data removed]"
          },
          "metadata": {
            "needs_background": "light"
          }
        }
      ],
      "source": [
        "train_data, test_data = load_pickle('/content/mnist.pkl', flatten=False, binarize=True)\n",
        "# train_data, test_data = load_pickle('./mnist.pkl', flatten=False, binarize=True)\n",
        "visualize_images(train_data, 'MNIST samples')"
      ]
    },
    {
      "cell_type": "markdown",
      "metadata": {
        "id": "elXdTtB7_6Xl"
      },
      "source": [
        "Masked Convolution Layer is the basic building block of PixelCNN model. Now you have to implement it."
      ]
    },
    {
      "cell_type": "code",
      "execution_count": 8,
      "metadata": {
        "id": "ybALnsgO_PRW"
      },
      "outputs": [],
      "source": [
        "class MaskedConv2d(nn.Conv2d):\n",
        "    def __init__(self, mask_type, in_channels, out_channels, kernel_size=5):\n",
        "        assert mask_type in ['A', 'B']\n",
        "        super().__init__(in_channels=in_channels, out_channels=out_channels, kernel_size=kernel_size, padding=kernel_size // 2)\n",
        "        self.register_buffer('mask', torch.zeros_like(self.weight))\n",
        "        self.create_mask(mask_type)\n",
        "\n",
        "    def forward(self, input):\n",
        "        self.weight.data = self.weight.data * self.mask\n",
        "        return super(MaskedConv2d, self).forward(input)\n",
        "\n",
        "    def create_mask(self, mask_type):\n",
        "        n = self.kernel_size[0]\n",
        "        self.mask[:, :, :n // 2, :] = 1\n",
        "        self.mask[:, :, n // 2, : n // 2] = 1\n",
        "        if mask_type == 'B':\n",
        "          self.mask[:, :, n//2, n//2] = 1\n",
        "      \n",
        "\n",
        "def test_masked_conv2d():\n",
        "    layer = MaskedConv2d('A', 2, 2)\n",
        "    assert np.allclose(layer.mask[:, :, 2, 2].numpy(), np.zeros((2, 2)))\n",
        "\n",
        "    layer = MaskedConv2d('B', 2, 2)\n",
        "    assert np.allclose(layer.mask[:, :, 2, 2].numpy(), np.ones((2, 2)))\n",
        "    \n",
        "\n",
        "test_masked_conv2d()"
      ]
    },
    {
      "cell_type": "code",
      "source": [],
      "metadata": {
        "id": "aLCqkNrbrr4f"
      },
      "execution_count": 8,
      "outputs": []
    },
    {
      "cell_type": "markdown",
      "metadata": {
        "id": "lPw0osOrAJFm"
      },
      "source": [
        "[Layer Normalization](https://arxiv.org/abs/1607.06450) helps to stabilize training process."
      ]
    },
    {
      "cell_type": "code",
      "execution_count": 9,
      "metadata": {
        "id": "npUNrimpAGUZ"
      },
      "outputs": [],
      "source": [
        "class LayerNorm(nn.LayerNorm):\n",
        "    def __init__(self, n_filters):\n",
        "        super().__init__(n_filters)\n",
        "\n",
        "    def forward(self, x):\n",
        "        x = x.permute(0, 2, 3, 1).contiguous()\n",
        "        x = super().forward(x)\n",
        "        return x.permute(0, 3, 1, 2).contiguous()"
      ]
    },
    {
      "cell_type": "markdown",
      "metadata": {
        "id": "11_PstPkAXig"
      },
      "source": [
        "Now we are ready to construct the main PixelCNN model."
      ]
    },
    {
      "cell_type": "code",
      "execution_count": 10,
      "metadata": {
        "id": "xC6E-hrHALYf"
      },
      "outputs": [],
      "source": [
        "class PixelCNN(nn.Module):\n",
        "    def __init__(\n",
        "        self, \n",
        "        input_shape, \n",
        "        n_filters=64, \n",
        "        kernel_size=7, \n",
        "        n_layers=5, \n",
        "        use_layer_norm=True\n",
        "    ):\n",
        "      \n",
        "        super().__init__()\n",
        "        self.input_shape = input_shape\n",
        "        self.net= nn.Sequential(\n",
        "            MaskedConv2d('A', 1, n_filters, kernel_size),\n",
        "            LayerNorm(n_filters),\n",
        "            nn.ReLU(),\n",
        "\n",
        "            MaskedConv2d('B', n_filters, n_filters, kernel_size),\n",
        "            LayerNorm(n_filters),\n",
        "            nn.ReLU(),\n",
        "\n",
        "            MaskedConv2d('B', n_filters, n_filters, kernel_size),\n",
        "            LayerNorm(n_filters),\n",
        "            nn.ReLU(),\n",
        "\n",
        "            MaskedConv2d('B', n_filters, 2, kernel_size)\n",
        "        )\n",
        "        \n",
        "\n",
        "\n",
        "    def forward(self, x):\n",
        "        # read the forward method carefully\n",
        "        batch_size = x.shape[0]\n",
        "        out = (x.float() - 0.5) / 0.5\n",
        "        out = self.net(out)\n",
        "        return out.view(batch_size, 2, 1, *self.input_shape)\n",
        "\n",
        "    def loss(self, x):\n",
        "        y = self.forward(x)\n",
        "        total_loss = F.cross_entropy(y, x.long())\n",
        "        return {'total_loss': total_loss}\n",
        "\n",
        "    def sample(self, n):\n",
        "        # read carefully the sampling process\n",
        "        samples = torch.zeros(n, 1, *self.input_shape).cuda()\n",
        "        with torch.no_grad():\n",
        "            for r in range(self.input_shape[0]):\n",
        "                for c in range(self.input_shape[1]):\n",
        "                    logits = self(samples)[:, :, :, r, c]\n",
        "                    probs = F.softmax(logits, dim=1).squeeze(-1)\n",
        "                    samples[:, 0, r, c] = torch.multinomial(probs, num_samples=1).squeeze(-1)\n",
        "        return samples.cpu().numpy()"
      ]
    },
    {
      "cell_type": "code",
      "execution_count": 21,
      "metadata": {
        "id": "9FI5foNQBlr5",
        "colab": {
          "base_uri": "https://localhost:8080/",
          "height": 49,
          "referenced_widgets": [
            "af8d19f7a4d04a75b97f6df49733ed0c",
            "f71ae5a6dc1f40dba810bdb42c33bdcd",
            "4e2ed3957ba246aab4e5c22c428c11bf",
            "36e5094c380548acac6d55602afdb084",
            "0668f5ee027e4c4eb55daf699746751f",
            "d30121d15a7f4269aff3846b26f64b38",
            "c1c5e403a4fa44af89f6c86d82d3a442",
            "50b38500032c45428bb81adb4a9ea742",
            "111587fd562a404bbadb3afce0cd71f4",
            "aa6ddcdac8dc4ec3971447f79dbf5815",
            "90d1076ac32347c28f94ff0d4f069a22"
          ]
        },
        "outputId": "f1975f9f-88de-4e4b-caee-086dab9bca39"
      },
      "outputs": [
        {
          "output_type": "display_data",
          "data": {
            "text/plain": [
              "  0%|          | 0/20 [00:00<?, ?it/s]"
            ],
            "application/vnd.jupyter.widget-view+json": {
              "version_major": 2,
              "version_minor": 0,
              "model_id": "af8d19f7a4d04a75b97f6df49733ed0c"
            }
          },
          "metadata": {}
        }
      ],
      "source": [
        "# ====\n",
        "# your code\n",
        "# choose these parameters\n",
        "# (h ere you could see the tips for the hyperparameters, they could help you, \n",
        "# but sometimes you could find more appropriate values,\n",
        "# experiment with them.)\n",
        "EPOCHS = 20 #60         # > 5\n",
        "BATCH_SIZE = 16      # any adequate value\n",
        "LR = 1e-3                 # < 1e-2\n",
        "N_LAYERS = 5           # < 10\n",
        "N_FILTERS = 32          # < 128\n",
        "USE_LAYER_NORM = True\n",
        "# ====\n",
        "\n",
        "model = PixelCNN(\n",
        "    input_shape=(28, 28), \n",
        "    n_filters=N_FILTERS, \n",
        "    kernel_size=5, \n",
        "    n_layers=N_LAYERS, \n",
        "    use_layer_norm=USE_LAYER_NORM\n",
        ")\n",
        "\n",
        "loss = model.loss(torch.zeros(1, 1, 28, 28))\n",
        "assert isinstance(loss, dict)\n",
        "assert 'total_loss' in loss\n",
        "\n",
        "train_loader = data.DataLoader(train_data, batch_size=BATCH_SIZE, shuffle=True)\n",
        "test_loader = data.DataLoader(test_data, batch_size=BATCH_SIZE)\n",
        "train_losses, test_losses = train_model(\n",
        "    model, \n",
        "    train_loader, \n",
        "    test_loader, \n",
        "    epochs=EPOCHS, \n",
        "    lr=LR, \n",
        "    use_tqdm=True, \n",
        "    use_cuda=USE_CUDA\n",
        ")\n",
        "\n",
        "assert test_losses['total_loss'][-1] < 0.10"
      ]
    },
    {
      "cell_type": "markdown",
      "metadata": {
        "id": "oLR1d8HICihS"
      },
      "source": [
        "Even if the test loss is bigger than the value in assert, try to visualize train/test curves, it could find you to find the bug."
      ]
    },
    {
      "cell_type": "code",
      "execution_count": 22,
      "metadata": {
        "id": "RIiyqsSRCZXs",
        "colab": {
          "base_uri": "https://localhost:8080/",
          "height": 286
        },
        "outputId": "f43261cd-9e5c-4f07-f72a-0ba5dff1bddf"
      },
      "outputs": [
        {
          "output_type": "display_data",
          "data": {
            "text/plain": [
              "<Figure size 432x288 with 1 Axes>"
            ],
            "image/png": "[encoded data removed]"
          },
          "metadata": {
            "needs_background": "light"
          }
        }
      ],
      "source": [
        "plot_training_curves(train_losses, test_losses)"
      ]
    },
    {
      "cell_type": "code",
      "source": [],
      "metadata": {
        "id": "aGnbOT-JpNIo"
      },
      "execution_count": 22,
      "outputs": []
    },
    {
      "cell_type": "markdown",
      "metadata": {
        "id": "bdMY__h8CwE5"
      },
      "source": [
        "Now we sample the new images from the model. You have to emphasize that the sampling from the autoregressive model is slow, because it is a sequential process."
      ]
    },
    {
      "cell_type": "code",
      "execution_count": 23,
      "metadata": {
        "id": "skwg5JlRCt0s",
        "colab": {
          "base_uri": "https://localhost:8080/",
          "height": 375
        },
        "outputId": "68dade87-ef67-4782-e57f-54c5fd144dde"
      },
      "outputs": [
        {
          "output_type": "display_data",
          "data": {
            "text/plain": [
              "<Figure size 432x432 with 1 Axes>"
            ],
            "image/png": "[encoded data removed]"
          },
          "metadata": {
            "needs_background": "light"
          }
        }
      ],
      "source": [
        "samples = model.sample(25)\n",
        "show_samples(samples, title='MNIST samples', nrow=5)"
      ]
    },
    {
      "cell_type": "markdown",
      "metadata": {
        "id": "yUv1QflqDAwk"
      },
      "source": [
        "## Task 3: PixelCNN receptive field and autocompletion (3pt)\n",
        "\n",
        "The PixelCNN model is a powerful model. But the model has drawbacks.\n",
        "\n",
        "1. The model is sequential and sampling is really slow (it is a drawback of all AR models).\n",
        "\n",
        "2. Second, the receptive field of the model is not so large. Even if the model is well-trained, the samples do not have long-range history. "
      ]
    },
    {
      "cell_type": "markdown",
      "metadata": {
        "id": "6LK1ttmcqfvW"
      },
      "source": [
        "### Receptive field\n",
        "\n",
        "To validate the second point and check our implementation of masked convolutions, let try to visualize the receptive field of the model. \n",
        "\n",
        "We should see that with increasing number of convolutional layers, the receptive field grows. The receptive field can be empirically measured by backpropagating an arbitrary loss for the output features of a specific pixel with respect to the input. We implement this idea below, and visualize the receptive field below."
      ]
    },
    {
      "cell_type": "code",
      "execution_count": 24,
      "metadata": {
        "id": "J1ekd7rGDBTi"
      },
      "outputs": [],
      "source": [
        "def plot_receptive_field(model, model_name):\n",
        "    # ====\n",
        "    # your code\n",
        "    # 1) create tensor with zeros and set required_grad to True.\n",
        "    # 2) apply model to the tensor\n",
        "    # 3) apply backward() to the center pixel of model output\n",
        "    # 4) take the gradient with respect to input\n",
        "    # 5) binary receptive field is an indicator map in which we stay 1's if gradient more than 1e-8\n",
        "    # 6) weighted receptive field is the normalized gradient (values lies in [0, 1])x\n",
        "\n",
        "    # ====\n",
        "    x_center = 14\n",
        "    y_center = 14\n",
        "\n",
        "    rec = torch.zeros(1, 1, 28, 28, requires_grad=True)\n",
        "    input = rec#.cuda()\n",
        "    out = model(input)\n",
        "    out[0, 1, 0, x_center, y_center].backward()\n",
        "    gradient = input.grad\n",
        "\n",
        "    eps = 1e-8\n",
        "    binary_map = (abs(gradient.view(28, 28)) > eps).float()\n",
        "\n",
        "    weighted_map = torch.abs(torch.nn.functional.normalize(gradient.view(28, 28), p=2.0, dim=1))\n",
        "\n",
        "    # we stack the maps to get RGB image\n",
        "    binary_map = np.stack([binary_map, binary_map, binary_map], axis=-1)\n",
        "    weighted_map = np.stack([weighted_map, weighted_map, weighted_map], axis=-1)\n",
        "\n",
        "    # center point will be red\n",
        "    binary_map[x_center, y_center] = [1, 0, 0]\n",
        "    weighted_map[x_center, y_center] = [1, 0, 0]\n",
        "\n",
        "    fig, ax = plt.subplots(1,2, figsize=(10, 6))\n",
        "    ax[0].imshow(weighted_map, vmin=0.0, vmax=1.0)\n",
        "    ax[1].imshow(binary_map, vmin=0.0, vmax=1.0)\n",
        "\n",
        "    ax[0].set_title(f\"Weighted receptive field for {model_name}\")\n",
        "    ax[1].set_title(f\"Binary receptive field for {model_name}\")\n",
        "    \n",
        "    ax[0].axis('off')\n",
        "    ax[1].axis('off')\n",
        "    plt.show()"
      ]
    },
    {
      "cell_type": "code",
      "execution_count": 25,
      "metadata": {
        "id": "ruOurWdFDIYP",
        "colab": {
          "base_uri": "https://localhost:8080/",
          "height": 1000
        },
        "outputId": "ef21e556-cba4-4145-f4cb-f49f285719da"
      },
      "outputs": [
        {
          "output_type": "display_data",
          "data": {
            "text/plain": [
              "<Figure size 720x432 with 2 Axes>"
            ],
            "image/png": "[encoded data removed]"
          },
          "metadata": {
            "needs_background": "light"
          }
        },
        {
          "output_type": "display_data",
          "data": {
            "text/plain": [
              "<Figure size 720x432 with 2 Axes>"
            ],
            "image/png": "[encoded data removed]"
          },
          "metadata": {
            "needs_background": "light"
          }
        },
        {
          "output_type": "display_data",
          "data": {
            "text/plain": [
              "<Figure size 720x432 with 2 Axes>"
            ],
            "image/png": "[encoded data removed]"
          },
          "metadata": {
            "needs_background": "light"
          }
        },
        {
          "output_type": "display_data",
          "data": {
            "text/plain": [
              "<Figure size 720x432 with 2 Axes>"
            ],
            "image/png": "[encoded data removed]"
          },
          "metadata": {
            "needs_background": "light"
          }
        }
      ],
      "source": [
        "for n_layers in [1, 3, 5, 6]:\n",
        "    model = PixelCNN(\n",
        "        input_shape=(28, 28), \n",
        "        n_filters=32, \n",
        "        kernel_size=5, \n",
        "        n_layers=n_layers, \n",
        "        use_layer_norm=True\n",
        "    )\n",
        "    #if USE_CUDA:\n",
        "     #   model = model.cuda()\n",
        "    plot_receptive_field(model, model_name=f\"PixelCNN {n_layers} layers\")"
      ]
    },
    {
      "cell_type": "markdown",
      "metadata": {
        "id": "Njl3VAmruh_v"
      },
      "source": [
        "You have to see that PixelCNN has strange blind spot in binary receptive field plot on the right side. This is a known issue of PixelCNN model. Please, try to understand why it happens. \n",
        "\n",
        "One way to solve this problem is a [GatedPixelCNN](https://arxiv.org/pdf/1606.05328.pdf) model (see paper, if you are interested in)."
      ]
    },
    {
      "cell_type": "markdown",
      "metadata": {
        "id": "z8eXfFdWzoVu"
      },
      "source": [
        "### Image autocompletion\n",
        "\n",
        "The last feature of autoregressive model that we try is auto-completing an image. As autoregressive models predict pixels one by one, we can set the first pixels to predefined values and check how the model completes the image. \n",
        "\n",
        "For implementing this, we just need to skip the iterations in the sampling loop that already have a value unequals to -1. \n",
        "We redefine the sample method in out PixelCNN class to allow it to take init of the sample."
      ]
    },
    {
      "cell_type": "code",
      "execution_count": 26,
      "metadata": {
        "id": "2X24nc_eqET-"
      },
      "outputs": [],
      "source": [
        "class PixelCNNAutoComplete(PixelCNN):\n",
        "    def sample(self, n, init=None):\n",
        "        # ====\n",
        "        # your code\n",
        "        # this method almost the same as the method of the base PixelCNN model\n",
        "        # but now if init is given, this tensor will be used as a starting image. \n",
        "        # The pixels to fill should be -1 in the input tensor.\n",
        "        \n",
        "        # ====\n",
        "        # def sample(self, n):\n",
        "        # read carefully the sampling process\n",
        "        samples = torch.zeros(n, 1, *self.input_shape).cuda()\n",
        "        samples = torch.where(init > -1, init, 0)\n",
        "        with torch.no_grad():\n",
        "            for r in range(self.input_shape[0]):\n",
        "                for c in range(self.input_shape[1]):\n",
        "                    logits = self(samples)[:, :, :, r, c]\n",
        "                    probs = F.softmax(logits, dim=1).squeeze(-1)\n",
        "                    samples[:, 0, r, c] = torch.multinomial(probs, num_samples=1).squeeze(-1)\n",
        "        return samples.cpu().numpy()\n",
        "        "
      ]
    },
    {
      "cell_type": "markdown",
      "metadata": {
        "id": "l6x2bX4Z0w5E"
      },
      "source": [
        "You have to repeat the model training."
      ]
    },
    {
      "cell_type": "code",
      "execution_count": 27,
      "metadata": {
        "id": "qFdMAilywnI-",
        "colab": {
          "base_uri": "https://localhost:8080/",
          "height": 49,
          "referenced_widgets": [
            "283f881f438940b9aeecc269a022d586",
            "a7254621937b4a6486e82f06cf35d787",
            "52acf44a449d4148abf41f79681abc80",
            "4de5461764214d3cb5317d53c18886d3",
            "9826c1c83bcf46269af9f8f3df63ccea",
            "84784efc29f4440191b96e356233d113",
            "636346d168ac4ee1abec9c90508aa720",
            "318cd23c916140c39ed8d94e381cb944",
            "7f9077b7bebe496e8e9b1018a90bae57",
            "429a4f1467af4c8eb3f72799d2c18425",
            "43d169e409de495fa400551d4feec3df"
          ]
        },
        "outputId": "77fdd25a-6ac1-4bdb-d742-ee8ab908590f"
      },
      "outputs": [
        {
          "output_type": "display_data",
          "data": {
            "text/plain": [
              "  0%|          | 0/20 [00:00<?, ?it/s]"
            ],
            "application/vnd.jupyter.widget-view+json": {
              "version_major": 2,
              "version_minor": 0,
              "model_id": "283f881f438940b9aeecc269a022d586"
            }
          },
          "metadata": {}
        }
      ],
      "source": [
        "model = PixelCNNAutoComplete(\n",
        "    input_shape=(28, 28), \n",
        "    n_filters=N_FILTERS, \n",
        "    kernel_size=5, \n",
        "    n_layers=N_LAYERS, \n",
        "    use_layer_norm=USE_LAYER_NORM\n",
        ")\n",
        "\n",
        "train_losses, test_losses = train_model(\n",
        "    model, \n",
        "    train_loader, \n",
        "    test_loader, \n",
        "    epochs=EPOCHS, \n",
        "    lr=LR, \n",
        "    use_tqdm=True, \n",
        "    use_cuda=USE_CUDA\n",
        ")\n",
        "\n",
        "assert test_losses['total_loss'][-1] < 0.10"
      ]
    },
    {
      "cell_type": "markdown",
      "metadata": {
        "id": "Rd9rpg2I0paF"
      },
      "source": [
        "We randomly take images from the training set, mask the lower half of the image (set -1's), and let the model autocomplete it. We do this several times for each image to see the diversity of samples."
      ]
    },
    {
      "cell_type": "code",
      "execution_count": 18,
      "metadata": {
        "id": "yR0zivWlwsYR",
        "colab": {
          "base_uri": "https://localhost:8080/",
          "height": 992
        },
        "outputId": "b64cc7d2-fee6-47fd-bf6c-38466c11f24b"
      },
      "outputs": [
        {
          "output_type": "display_data",
          "data": {
            "text/plain": [
              "<Figure size 432x432 with 1 Axes>"
            ],
            "image/png": "[encoded data removed]"
          },
          "metadata": {
            "needs_background": "light"
          }
        },
        {
          "output_type": "display_data",
          "data": {
            "text/plain": [
              "<Figure size 432x432 with 1 Axes>"
            ],
            "image/png": "[encoded data removed]"
          },
          "metadata": {
            "needs_background": "light"
          }
        },
        {
          "output_type": "display_data",
          "data": {
            "text/plain": [
              "<Figure size 432x432 with 1 Axes>"
            ],
            "image/png": "[encoded data removed]"
          },
          "metadata": {
            "needs_background": "light"
          }
        },
        {
          "output_type": "display_data",
          "data": {
            "text/plain": [
              "<Figure size 432x432 with 1 Axes>"
            ],
            "image/png": "[encoded data removed]"
          },
          "metadata": {
            "needs_background": "light"
          }
        },
        {
          "output_type": "display_data",
          "data": {
            "text/plain": [
              "<Figure size 432x432 with 1 Axes>"
            ],
            "image/png": "[encoded data removed]"
          },
          "metadata": {
            "needs_background": "light"
          }
        },
        {
          "output_type": "display_data",
          "data": {
            "text/plain": [
              "<Figure size 432x432 with 1 Axes>"
            ],
            "image/png": "[encoded data removed]"
          },
          "metadata": {
            "needs_background": "light"
          }
        }
      ],
      "source": [
        "def autocomplete_image(image, model, n_samples):\n",
        "    # Remove lower half of the image\n",
        "    image_init = image.copy()\n",
        "    image_init[:, image.shape[1] // 2:, :] = -1\n",
        "    samples = np.stack([image, np.maximum(image_init, 0)])\n",
        "    show_samples(samples, title=\"Original image and input image to sampling\", nrow=2)\n",
        "    # Generate completions\n",
        "    image_init = torch.tensor(image_init)\n",
        "    image_init = image_init.unsqueeze(dim=0).expand(n_samples, -1, -1, -1).cuda()\n",
        "    img_generated = model.sample(n_samples, image_init)\n",
        "    show_samples(img_generated, title=\"n_samples\", nrow=4)\n",
        "\n",
        "\n",
        "for i in range(1, 4):\n",
        "    autocomplete_image(train_data[i], model, n_samples=4)"
      ]
    },
    {
      "cell_type": "code",
      "source": [],
      "metadata": {
        "id": "a42Icse1LvPL"
      },
      "execution_count": 18,
      "outputs": []
    }
  ],
  "metadata": {
    "accelerator": "GPU",
    "colab": {
      "collapsed_sections": [
        "TiqeBx7QSuue",
        "QLGp4c5UPByO",
        "tk8-eCJuaTrU",
        "ivV4DY1SPEIL",
        "W9sccpidSuuw",
        "KHouHarf_Hs-"
      ],
      "provenance": [],
      "toc_visible": true
    },
    "kernelspec": {
      "display_name": "Python 3 (ipykernel)",
      "language": "python",
      "name": "python3"
    },
    "language_info": {
      "codemirror_mode": {
        "name": "ipython",
        "version": 3
      },
      "file_extension": ".py",
      "mimetype": "text/x-python",
      "name": "python",
      "nbconvert_exporter": "python",
      "pygments_lexer": "ipython3",
      "version": "3.7.9"
    },
    "vscode": {
      "interpreter": {
        "hash": "784c2e2ba9cdfc1ce1e8c565791a35aa78e810f3990b00899de93c9f5ea5b088"
      }
    },
    "widgets": {
      "application/vnd.jupyter.widget-state+json": {
        "af8d19f7a4d04a75b97f6df49733ed0c": {
          "model_module": "@jupyter-widgets/controls",
          "model_name": "HBoxModel",
          "model_module_version": "1.5.0",
          "state": {
            "_dom_classes": [],
            "_model_module": "@jupyter-widgets/controls",
            "_model_module_version": "1.5.0",
            "_model_name": "HBoxModel",
            "_view_count": null,
            "_view_module": "@jupyter-widgets/controls",
            "_view_module_version": "1.5.0",
            "_view_name": "HBoxView",
            "box_style": "",
            "children": [
              "IPY_MODEL_f71ae5a6dc1f40dba810bdb42c33bdcd",
              "IPY_MODEL_4e2ed3957ba246aab4e5c22c428c11bf",
              "IPY_MODEL_36e5094c380548acac6d55602afdb084"
            ],
            "layout": "IPY_MODEL_0668f5ee027e4c4eb55daf699746751f"
          }
        },
        "f71ae5a6dc1f40dba810bdb42c33bdcd": {
          "model_module": "@jupyter-widgets/controls",
          "model_name": "HTMLModel",
          "model_module_version": "1.5.0",
          "state": {
            "_dom_classes": [],
            "_model_module": "@jupyter-widgets/controls",
            "_model_module_version": "1.5.0",
            "_model_name": "HTMLModel",
            "_view_count": null,
            "_view_module": "@jupyter-widgets/controls",
            "_view_module_version": "1.5.0",
            "_view_name": "HTMLView",
            "description": "",
            "description_tooltip": null,
            "layout": "IPY_MODEL_d30121d15a7f4269aff3846b26f64b38",
            "placeholder": "​",
            "style": "IPY_MODEL_c1c5e403a4fa44af89f6c86d82d3a442",
            "value": "100%"
          }
        },
        "4e2ed3957ba246aab4e5c22c428c11bf": {
          "model_module": "@jupyter-widgets/controls",
          "model_name": "FloatProgressModel",
          "model_module_version": "1.5.0",
          "state": {
            "_dom_classes": [],
            "_model_module": "@jupyter-widgets/controls",
            "_model_module_version": "1.5.0",
            "_model_name": "FloatProgressModel",
            "_view_count": null,
            "_view_module": "@jupyter-widgets/controls",
            "_view_module_version": "1.5.0",
            "_view_name": "ProgressView",
            "bar_style": "success",
            "description": "",
            "description_tooltip": null,
            "layout": "IPY_MODEL_50b38500032c45428bb81adb4a9ea742",
            "max": 20,
            "min": 0,
            "orientation": "horizontal",
            "style": "IPY_MODEL_111587fd562a404bbadb3afce0cd71f4",
            "value": 20
          }
        },
        "36e5094c380548acac6d55602afdb084": {
          "model_module": "@jupyter-widgets/controls",
          "model_name": "HTMLModel",
          "model_module_version": "1.5.0",
          "state": {
            "_dom_classes": [],
            "_model_module": "@jupyter-widgets/controls",
            "_model_module_version": "1.5.0",
            "_model_name": "HTMLModel",
            "_view_count": null,
            "_view_module": "@jupyter-widgets/controls",
            "_view_module_version": "1.5.0",
            "_view_name": "HTMLView",
            "description": "",
            "description_tooltip": null,
            "layout": "IPY_MODEL_aa6ddcdac8dc4ec3971447f79dbf5815",
            "placeholder": "​",
            "style": "IPY_MODEL_90d1076ac32347c28f94ff0d4f069a22",
            "value": " 20/20 [04:39&lt;00:00, 14.00s/it]"
          }
        },
        "0668f5ee027e4c4eb55daf699746751f": {
          "model_module": "@jupyter-widgets/base",
          "model_name": "LayoutModel",
          "model_module_version": "1.2.0",
          "state": {
            "_model_module": "@jupyter-widgets/base",
            "_model_module_version": "1.2.0",
            "_model_name": "LayoutModel",
            "_view_count": null,
            "_view_module": "@jupyter-widgets/base",
            "_view_module_version": "1.2.0",
            "_view_name": "LayoutView",
            "align_content": null,
            "align_items": null,
            "align_self": null,
            "border": null,
            "bottom": null,
            "display": null,
            "flex": null,
            "flex_flow": null,
            "grid_area": null,
            "grid_auto_columns": null,
            "grid_auto_flow": null,
            "grid_auto_rows": null,
            "grid_column": null,
            "grid_gap": null,
            "grid_row": null,
            "grid_template_areas": null,
            "grid_template_columns": null,
            "grid_template_rows": null,
            "height": null,
            "justify_content": null,
            "justify_items": null,
            "left": null,
            "margin": null,
            "max_height": null,
            "max_width": null,
            "min_height": null,
            "min_width": null,
            "object_fit": null,
            "object_position": null,
            "order": null,
            "overflow": null,
            "overflow_x": null,
            "overflow_y": null,
            "padding": null,
            "right": null,
            "top": null,
            "visibility": null,
            "width": null
          }
        },
        "d30121d15a7f4269aff3846b26f64b38": {
          "model_module": "@jupyter-widgets/base",
          "model_name": "LayoutModel",
          "model_module_version": "1.2.0",
          "state": {
            "_model_module": "@jupyter-widgets/base",
            "_model_module_version": "1.2.0",
            "_model_name": "LayoutModel",
            "_view_count": null,
            "_view_module": "@jupyter-widgets/base",
            "_view_module_version": "1.2.0",
            "_view_name": "LayoutView",
            "align_content": null,
            "align_items": null,
            "align_self": null,
            "border": null,
            "bottom": null,
            "display": null,
            "flex": null,
            "flex_flow": null,
            "grid_area": null,
            "grid_auto_columns": null,
            "grid_auto_flow": null,
            "grid_auto_rows": null,
            "grid_column": null,
            "grid_gap": null,
            "grid_row": null,
            "grid_template_areas": null,
            "grid_template_columns": null,
            "grid_template_rows": null,
            "height": null,
            "justify_content": null,
            "justify_items": null,
            "left": null,
            "margin": null,
            "max_height": null,
            "max_width": null,
            "min_height": null,
            "min_width": null,
            "object_fit": null,
            "object_position": null,
            "order": null,
            "overflow": null,
            "overflow_x": null,
            "overflow_y": null,
            "padding": null,
            "right": null,
            "top": null,
            "visibility": null,
            "width": null
          }
        },
        "c1c5e403a4fa44af89f6c86d82d3a442": {
          "model_module": "@jupyter-widgets/controls",
          "model_name": "DescriptionStyleModel",
          "model_module_version": "1.5.0",
          "state": {
            "_model_module": "@jupyter-widgets/controls",
            "_model_module_version": "1.5.0",
            "_model_name": "DescriptionStyleModel",
            "_view_count": null,
            "_view_module": "@jupyter-widgets/base",
            "_view_module_version": "1.2.0",
            "_view_name": "StyleView",
            "description_width": ""
          }
        },
        "50b38500032c45428bb81adb4a9ea742": {
          "model_module": "@jupyter-widgets/base",
          "model_name": "LayoutModel",
          "model_module_version": "1.2.0",
          "state": {
            "_model_module": "@jupyter-widgets/base",
            "_model_module_version": "1.2.0",
            "_model_name": "LayoutModel",
            "_view_count": null,
            "_view_module": "@jupyter-widgets/base",
            "_view_module_version": "1.2.0",
            "_view_name": "LayoutView",
            "align_content": null,
            "align_items": null,
            "align_self": null,
            "border": null,
            "bottom": null,
            "display": null,
            "flex": null,
            "flex_flow": null,
            "grid_area": null,
            "grid_auto_columns": null,
            "grid_auto_flow": null,
            "grid_auto_rows": null,
            "grid_column": null,
            "grid_gap": null,
            "grid_row": null,
            "grid_template_areas": null,
            "grid_template_columns": null,
            "grid_template_rows": null,
            "height": null,
            "justify_content": null,
            "justify_items": null,
            "left": null,
            "margin": null,
            "max_height": null,
            "max_width": null,
            "min_height": null,
            "min_width": null,
            "object_fit": null,
            "object_position": null,
            "order": null,
            "overflow": null,
            "overflow_x": null,
            "overflow_y": null,
            "padding": null,
            "right": null,
            "top": null,
            "visibility": null,
            "width": null
          }
        },
        "111587fd562a404bbadb3afce0cd71f4": {
          "model_module": "@jupyter-widgets/controls",
          "model_name": "ProgressStyleModel",
          "model_module_version": "1.5.0",
          "state": {
            "_model_module": "@jupyter-widgets/controls",
            "_model_module_version": "1.5.0",
            "_model_name": "ProgressStyleModel",
            "_view_count": null,
            "_view_module": "@jupyter-widgets/base",
            "_view_module_version": "1.2.0",
            "_view_name": "StyleView",
            "bar_color": null,
            "description_width": ""
          }
        },
        "aa6ddcdac8dc4ec3971447f79dbf5815": {
          "model_module": "@jupyter-widgets/base",
          "model_name": "LayoutModel",
          "model_module_version": "1.2.0",
          "state": {
            "_model_module": "@jupyter-widgets/base",
            "_model_module_version": "1.2.0",
            "_model_name": "LayoutModel",
            "_view_count": null,
            "_view_module": "@jupyter-widgets/base",
            "_view_module_version": "1.2.0",
            "_view_name": "LayoutView",
            "align_content": null,
            "align_items": null,
            "align_self": null,
            "border": null,
            "bottom": null,
            "display": null,
            "flex": null,
            "flex_flow": null,
            "grid_area": null,
            "grid_auto_columns": null,
            "grid_auto_flow": null,
            "grid_auto_rows": null,
            "grid_column": null,
            "grid_gap": null,
            "grid_row": null,
            "grid_template_areas": null,
            "grid_template_columns": null,
            "grid_template_rows": null,
            "height": null,
            "justify_content": null,
            "justify_items": null,
            "left": null,
            "margin": null,
            "max_height": null,
            "max_width": null,
            "min_height": null,
            "min_width": null,
            "object_fit": null,
            "object_position": null,
            "order": null,
            "overflow": null,
            "overflow_x": null,
            "overflow_y": null,
            "padding": null,
            "right": null,
            "top": null,
            "visibility": null,
            "width": null
          }
        },
        "90d1076ac32347c28f94ff0d4f069a22": {
          "model_module": "@jupyter-widgets/controls",
          "model_name": "DescriptionStyleModel",
          "model_module_version": "1.5.0",
          "state": {
            "_model_module": "@jupyter-widgets/controls",
            "_model_module_version": "1.5.0",
            "_model_name": "DescriptionStyleModel",
            "_view_count": null,
            "_view_module": "@jupyter-widgets/base",
            "_view_module_version": "1.2.0",
            "_view_name": "StyleView",
            "description_width": ""
          }
        },
        "283f881f438940b9aeecc269a022d586": {
          "model_module": "@jupyter-widgets/controls",
          "model_name": "HBoxModel",
          "model_module_version": "1.5.0",
          "state": {
            "_dom_classes": [],
            "_model_module": "@jupyter-widgets/controls",
            "_model_module_version": "1.5.0",
            "_model_name": "HBoxModel",
            "_view_count": null,
            "_view_module": "@jupyter-widgets/controls",
            "_view_module_version": "1.5.0",
            "_view_name": "HBoxView",
            "box_style": "",
            "children": [
              "IPY_MODEL_a7254621937b4a6486e82f06cf35d787",
              "IPY_MODEL_52acf44a449d4148abf41f79681abc80",
              "IPY_MODEL_4de5461764214d3cb5317d53c18886d3"
            ],
            "layout": "IPY_MODEL_9826c1c83bcf46269af9f8f3df63ccea"
          }
        },
        "a7254621937b4a6486e82f06cf35d787": {
          "model_module": "@jupyter-widgets/controls",
          "model_name": "HTMLModel",
          "model_module_version": "1.5.0",
          "state": {
            "_dom_classes": [],
            "_model_module": "@jupyter-widgets/controls",
            "_model_module_version": "1.5.0",
            "_model_name": "HTMLModel",
            "_view_count": null,
            "_view_module": "@jupyter-widgets/controls",
            "_view_module_version": "1.5.0",
            "_view_name": "HTMLView",
            "description": "",
            "description_tooltip": null,
            "layout": "IPY_MODEL_84784efc29f4440191b96e356233d113",
            "placeholder": "​",
            "style": "IPY_MODEL_636346d168ac4ee1abec9c90508aa720",
            "value": "100%"
          }
        },
        "52acf44a449d4148abf41f79681abc80": {
          "model_module": "@jupyter-widgets/controls",
          "model_name": "FloatProgressModel",
          "model_module_version": "1.5.0",
          "state": {
            "_dom_classes": [],
            "_model_module": "@jupyter-widgets/controls",
            "_model_module_version": "1.5.0",
            "_model_name": "FloatProgressModel",
            "_view_count": null,
            "_view_module": "@jupyter-widgets/controls",
            "_view_module_version": "1.5.0",
            "_view_name": "ProgressView",
            "bar_style": "success",
            "description": "",
            "description_tooltip": null,
            "layout": "IPY_MODEL_318cd23c916140c39ed8d94e381cb944",
            "max": 20,
            "min": 0,
            "orientation": "horizontal",
            "style": "IPY_MODEL_7f9077b7bebe496e8e9b1018a90bae57",
            "value": 20
          }
        },
        "4de5461764214d3cb5317d53c18886d3": {
          "model_module": "@jupyter-widgets/controls",
          "model_name": "HTMLModel",
          "model_module_version": "1.5.0",
          "state": {
            "_dom_classes": [],
            "_model_module": "@jupyter-widgets/controls",
            "_model_module_version": "1.5.0",
            "_model_name": "HTMLModel",
            "_view_count": null,
            "_view_module": "@jupyter-widgets/controls",
            "_view_module_version": "1.5.0",
            "_view_name": "HTMLView",
            "description": "",
            "description_tooltip": null,
            "layout": "IPY_MODEL_429a4f1467af4c8eb3f72799d2c18425",
            "placeholder": "​",
            "style": "IPY_MODEL_43d169e409de495fa400551d4feec3df",
            "value": " 20/20 [04:38&lt;00:00, 13.96s/it]"
          }
        },
        "9826c1c83bcf46269af9f8f3df63ccea": {
          "model_module": "@jupyter-widgets/base",
          "model_name": "LayoutModel",
          "model_module_version": "1.2.0",
          "state": {
            "_model_module": "@jupyter-widgets/base",
            "_model_module_version": "1.2.0",
            "_model_name": "LayoutModel",
            "_view_count": null,
            "_view_module": "@jupyter-widgets/base",
            "_view_module_version": "1.2.0",
            "_view_name": "LayoutView",
            "align_content": null,
            "align_items": null,
            "align_self": null,
            "border": null,
            "bottom": null,
            "display": null,
            "flex": null,
            "flex_flow": null,
            "grid_area": null,
            "grid_auto_columns": null,
            "grid_auto_flow": null,
            "grid_auto_rows": null,
            "grid_column": null,
            "grid_gap": null,
            "grid_row": null,
            "grid_template_areas": null,
            "grid_template_columns": null,
            "grid_template_rows": null,
            "height": null,
            "justify_content": null,
            "justify_items": null,
            "left": null,
            "margin": null,
            "max_height": null,
            "max_width": null,
            "min_height": null,
            "min_width": null,
            "object_fit": null,
            "object_position": null,
            "order": null,
            "overflow": null,
            "overflow_x": null,
            "overflow_y": null,
            "padding": null,
            "right": null,
            "top": null,
            "visibility": null,
            "width": null
          }
        },
        "84784efc29f4440191b96e356233d113": {
          "model_module": "@jupyter-widgets/base",
          "model_name": "LayoutModel",
          "model_module_version": "1.2.0",
          "state": {
            "_model_module": "@jupyter-widgets/base",
            "_model_module_version": "1.2.0",
            "_model_name": "LayoutModel",
            "_view_count": null,
            "_view_module": "@jupyter-widgets/base",
            "_view_module_version": "1.2.0",
            "_view_name": "LayoutView",
            "align_content": null,
            "align_items": null,
            "align_self": null,
            "border": null,
            "bottom": null,
            "display": null,
            "flex": null,
            "flex_flow": null,
            "grid_area": null,
            "grid_auto_columns": null,
            "grid_auto_flow": null,
            "grid_auto_rows": null,
            "grid_column": null,
            "grid_gap": null,
            "grid_row": null,
            "grid_template_areas": null,
            "grid_template_columns": null,
            "grid_template_rows": null,
            "height": null,
            "justify_content": null,
            "justify_items": null,
            "left": null,
            "margin": null,
            "max_height": null,
            "max_width": null,
            "min_height": null,
            "min_width": null,
            "object_fit": null,
            "object_position": null,
            "order": null,
            "overflow": null,
            "overflow_x": null,
            "overflow_y": null,
            "padding": null,
            "right": null,
            "top": null,
            "visibility": null,
            "width": null
          }
        },
        "636346d168ac4ee1abec9c90508aa720": {
          "model_module": "@jupyter-widgets/controls",
          "model_name": "DescriptionStyleModel",
          "model_module_version": "1.5.0",
          "state": {
            "_model_module": "@jupyter-widgets/controls",
            "_model_module_version": "1.5.0",
            "_model_name": "DescriptionStyleModel",
            "_view_count": null,
            "_view_module": "@jupyter-widgets/base",
            "_view_module_version": "1.2.0",
            "_view_name": "StyleView",
            "description_width": ""
          }
        },
        "318cd23c916140c39ed8d94e381cb944": {
          "model_module": "@jupyter-widgets/base",
          "model_name": "LayoutModel",
          "model_module_version": "1.2.0",
          "state": {
            "_model_module": "@jupyter-widgets/base",
            "_model_module_version": "1.2.0",
            "_model_name": "LayoutModel",
            "_view_count": null,
            "_view_module": "@jupyter-widgets/base",
            "_view_module_version": "1.2.0",
            "_view_name": "LayoutView",
            "align_content": null,
            "align_items": null,
            "align_self": null,
            "border": null,
            "bottom": null,
            "display": null,
            "flex": null,
            "flex_flow": null,
            "grid_area": null,
            "grid_auto_columns": null,
            "grid_auto_flow": null,
            "grid_auto_rows": null,
            "grid_column": null,
            "grid_gap": null,
            "grid_row": null,
            "grid_template_areas": null,
            "grid_template_columns": null,
            "grid_template_rows": null,
            "height": null,
            "justify_content": null,
            "justify_items": null,
            "left": null,
            "margin": null,
            "max_height": null,
            "max_width": null,
            "min_height": null,
            "min_width": null,
            "object_fit": null,
            "object_position": null,
            "order": null,
            "overflow": null,
            "overflow_x": null,
            "overflow_y": null,
            "padding": null,
            "right": null,
            "top": null,
            "visibility": null,
            "width": null
          }
        },
        "7f9077b7bebe496e8e9b1018a90bae57": {
          "model_module": "@jupyter-widgets/controls",
          "model_name": "ProgressStyleModel",
          "model_module_version": "1.5.0",
          "state": {
            "_model_module": "@jupyter-widgets/controls",
            "_model_module_version": "1.5.0",
            "_model_name": "ProgressStyleModel",
            "_view_count": null,
            "_view_module": "@jupyter-widgets/base",
            "_view_module_version": "1.2.0",
            "_view_name": "StyleView",
            "bar_color": null,
            "description_width": ""
          }
        },
        "429a4f1467af4c8eb3f72799d2c18425": {
          "model_module": "@jupyter-widgets/base",
          "model_name": "LayoutModel",
          "model_module_version": "1.2.0",
          "state": {
            "_model_module": "@jupyter-widgets/base",
            "_model_module_version": "1.2.0",
            "_model_name": "LayoutModel",
            "_view_count": null,
            "_view_module": "@jupyter-widgets/base",
            "_view_module_version": "1.2.0",
            "_view_name": "LayoutView",
            "align_content": null,
            "align_items": null,
            "align_self": null,
            "border": null,
            "bottom": null,
            "display": null,
            "flex": null,
            "flex_flow": null,
            "grid_area": null,
            "grid_auto_columns": null,
            "grid_auto_flow": null,
            "grid_auto_rows": null,
            "grid_column": null,
            "grid_gap": null,
            "grid_row": null,
            "grid_template_areas": null,
            "grid_template_columns": null,
            "grid_template_rows": null,
            "height": null,
            "justify_content": null,
            "justify_items": null,
            "left": null,
            "margin": null,
            "max_height": null,
            "max_width": null,
            "min_height": null,
            "min_width": null,
            "object_fit": null,
            "object_position": null,
            "order": null,
            "overflow": null,
            "overflow_x": null,
            "overflow_y": null,
            "padding": null,
            "right": null,
            "top": null,
            "visibility": null,
            "width": null
          }
        },
        "43d169e409de495fa400551d4feec3df": {
          "model_module": "@jupyter-widgets/controls",
          "model_name": "DescriptionStyleModel",
          "model_module_version": "1.5.0",
          "state": {
            "_model_module": "@jupyter-widgets/controls",
            "_model_module_version": "1.5.0",
            "_model_name": "DescriptionStyleModel",
            "_view_count": null,
            "_view_module": "@jupyter-widgets/base",
            "_view_module_version": "1.2.0",
            "_view_name": "StyleView",
            "description_width": ""
          }
        }
      }
    }
  },
  "nbformat": 4,
  "nbformat_minor": 0
}